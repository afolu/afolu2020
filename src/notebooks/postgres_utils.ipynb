{
 "cells": [
  {
   "cell_type": "code",
   "execution_count": 1,
   "metadata": {},
   "outputs": [
    {
     "name": "stdout",
     "output_type": "stream",
     "text": [
      "/home/alfonso/anaconda3\n"
     ]
    }
   ],
   "source": [
    "# !conda install -c anaconda psycopg2\n",
    "import sys\n",
    "print(sys.prefix)\n",
    "# !conda install --yes --prefix {sys.prefix} psycopg2"
   ]
  },
  {
   "cell_type": "code",
   "execution_count": null,
   "metadata": {},
   "outputs": [],
   "source": [
    "import pandas as pd\n",
    "from configparser import ConfigParser\n",
    "from sqlalchemy import create_engine\n",
    "import psycopg2"
   ]
  },
  {
   "cell_type": "code",
   "execution_count": null,
   "metadata": {
    "scrolled": false
   },
   "outputs": [],
   "source": [
    "!conda install -c anaconda psycopg2\n"
   ]
  },
  {
   "cell_type": "code",
   "execution_count": null,
   "metadata": {},
   "outputs": [],
   "source": [
    "dt_dbase = {\n",
    "    \"host\": \"database-1.cwazgjcgbajg.us-east-1.rds.amazonaws.com\",\n",
    "    \"port\": \"4321\",\n",
    "    \"database\": \"factor_emision_FE\",\n",
    "    \"user\": \"postgres\",\n",
    "    \"password\": \"MSALAZAR2020*\",\n",
    "}"
   ]
  },
  {
   "cell_type": "code",
   "execution_count": null,
   "metadata": {},
   "outputs": [],
   "source": [
    "def pg_config(filename='connection.ini', section='pg_fedegan'):\n",
    "    # create a parser\n",
    "    parser = ConfigParser()\n",
    "    # read config file\n",
    "    parser.read(filename)\n",
    "\n",
    "    # get section, default to postgresql\n",
    "    db = {}\n",
    "\n",
    "    if parser.has_section(section):\n",
    "        params = parser.items(section)\n",
    "        for param in params:\n",
    "            db[param[0]] = param[1]\n",
    "\n",
    "    else:\n",
    "        raise Exception('Section {0} not found in the {1} file'.format(section, filename))\n",
    "\n",
    "    return db\n",
    "\n",
    "\n",
    "def pg_connection_str(**kwargs):\n",
    "    \"\"\"\n",
    "    Create string connection for using with pandas read_sql\n",
    "    :param kwargs:\n",
    "    :return:\n",
    "    \"\"\"\n",
    "    params = pg_config(**kwargs)\n",
    "    conn = 'postgresql://{user}:{password}@{host}:{port}/{database}'.format(**params)\n",
    "\n",
    "    return conn\n",
    "\n",
    "\n",
    "def pg_connection(**kwargs):\n",
    "    \"\"\" Connect to the PostgreSQL database server \"\"\"\n",
    "    conn = None\n",
    "\n",
    "    try:\n",
    "        # read connection parameters\n",
    "        params = pg_config(**kwargs)\n",
    "\n",
    "        # connect to the PostgreSQL server\n",
    "        print('Connecting to the PostgreSQL database...')\n",
    "        conn = psycopg2.connect(**params)\n",
    "\n",
    "    except (Exception, psycopg2.DatabaseError) as error:\n",
    "        print(error)\n",
    "\n",
    "    return conn"
   ]
  },
  {
   "cell_type": "code",
   "execution_count": null,
   "metadata": {},
   "outputs": [],
   "source": [
    "conn = pg_connection_str()\n",
    "\n",
    "query = \"\"\"SELECT * FROM public.variedad_pasto WHERE \"PC_dieta\" > 10\"\"\"\n",
    "\n",
    "df1 = pd.read_sql_table(\"variedad_pasto\", conn, index_col='id_variedad')\n",
    "df2 = pd.read_sql(query, conn, index_col='id_variedad')\n",
    "\n",
    "print(df1.head())\n",
    "print(df2.head())"
   ]
  },
  {
   "cell_type": "code",
   "execution_count": null,
   "metadata": {},
   "outputs": [],
   "source": [
    "users = [\n",
    "    {'idUser': 1, 'uNombre': 'Alfonso', 'uPassword': 'Alfonso'},\n",
    "    {'idUser': 2, 'uNombre': 'Mauro', 'uPassword': 'prueba2020'},\n",
    "    {'idUser': 3, 'uNombre': 'Carlos', 'uPassword': 'Carlos2020'},\n",
    "]\n",
    "\n",
    "with pg_connection() as conn_pg:\n",
    "    for user in users:\n",
    "        cursor = conn_pg.cursor()\n",
    "        query = \"\"\"\n",
    "        insert into users(\"idUser\", \"unombre\", \"upassword\") values({idUser}, '{uNombre}', '{uPassword}')\n",
    "        on conflict on constraint \"idUser\" \n",
    "        do update set \"unombre\" = '{uNombre}', \"upassword\" = '{uPassword}'\n",
    "        \"\"\".format(**user)\n",
    "\n",
    "        cursor.execute(query)\n",
    "    \n",
    "    conn_pg.commit()"
   ]
  },
  {
   "cell_type": "code",
   "execution_count": null,
   "metadata": {},
   "outputs": [],
   "source": [
    "conn_str = pg_connection_str()\n",
    "table = 'variedad_pasto'\n",
    "\n",
    "query_fields = \"\"\"\n",
    "select column_name \n",
    "from information_schema.columns\n",
    "where table_name = '{table}'\n",
    "order by ordinal_position \n",
    "\"\"\".format(table=table)\n",
    "\n",
    "df = pd.read_sql(query_fields, conn_str)\n",
    "df_model = pd.DataFrame(columns=df['column_name'])\n",
    "df_model.to_csv('{}.csv'.format(table), index=False)"
   ]
  },
  {
   "cell_type": "code",
   "execution_count": null,
   "metadata": {},
   "outputs": [],
   "source": []
  }
 ],
 "metadata": {
  "kernelspec": {
   "display_name": "Python 3",
   "language": "python",
   "name": "python3"
  },
  "language_info": {
   "codemirror_mode": {
    "name": "ipython",
    "version": 3
   },
   "file_extension": ".py",
   "mimetype": "text/x-python",
   "name": "python",
   "nbconvert_exporter": "python",
   "pygments_lexer": "ipython3",
   "version": "3.7.6"
  }
 },
 "nbformat": 4,
 "nbformat_minor": 4
}
